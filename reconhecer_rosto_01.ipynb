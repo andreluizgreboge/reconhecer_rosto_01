{
  "nbformat": 4,
  "nbformat_minor": 0,
  "metadata": {
    "colab": {
      "name": "reconhecer_rosto_01.ipynb",
      "provenance": []
    },
    "kernelspec": {
      "name": "python3",
      "display_name": "Python 3"
    },
    "language_info": {
      "name": "python"
    }
  },
  "cells": [
    {
      "cell_type": "code",
      "source": [
        "import cv2 as cv2\n",
        "from google.colab.patches import cv2_imshow"
      ],
      "metadata": {
        "id": "EikahqX6xjnx"
      },
      "execution_count": null,
      "outputs": []
    },
    {
      "cell_type": "code",
      "source": [
        "#import classificador\n",
        "algo='haar.xml'\n",
        "\n",
        "#import classificador do cv2\n",
        "classificador=cv2.CascadeClassifier(algo)\n",
        "\n",
        "fotos = [\"foto.jpg\",'fotob.jpg']\n",
        "\n",
        "\n",
        "for i in fotos:\n",
        "  img = cv2.imread(i)\n",
        "  gray = cv2.cvtColor(img, cv2.COLOR_BGR2GRAY)\n",
        "  rosto = classificador.detectMultiScale(gray)\n",
        "  \n",
        "  #abaixo vamos pegar dimenções das faces reconhecidas\n",
        "  #e então plotar\n",
        " \n",
        "  for (x,y,l,a) in rosto:\n",
        "    cv2.rectangle(img, (x,y),(x+l,y+a),(0,255,255), 4)\n",
        "  cv2_imshow(img)"
      ],
      "metadata": {
        "id": "_AExAszKxneh"
      },
      "execution_count": null,
      "outputs": []
    }
  ]
}